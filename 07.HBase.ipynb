{
 "cells": [
  {
   "cell_type": "markdown",
   "metadata": {},
   "source": [
    "# HBase"
   ]
  },
  {
   "cell_type": "markdown",
   "metadata": {},
   "source": [
    "Колоночная нереляционная база данных. В качестве хранилища используется HDFS."
   ]
  },
  {
   "cell_type": "code",
   "execution_count": null,
   "metadata": {},
   "outputs": [],
   "source": [
    "import happybase\n",
    "\n",
    "connection = happybase.Connection('localhost', compat='0.98')\n",
    "table = connection.table('samplename')\n",
    "\n",
    "table.put(b'row-key', {b'family:qual1': b'value1',\n",
    "                       b'family:qual2': b'value2'})\n",
    "\n",
    "row = table.row(b'row-key')\n",
    "print(row[b'family:qual1'])  \n",
    "\n",
    "for key, data in table.rows([b'row-key-1', b'row-key-2']):\n",
    "    print(key, data)  \n",
    "for key, data in table.scan(row_prefix=b'row'):\n",
    "    print(key, data) \n",
    "\n",
    "row = table.delete(b'row-key')\n"
   ]
  }
 ],
 "metadata": {
  "kernelspec": {
   "display_name": "Python 3",
   "language": "python",
   "name": "python3"
  },
  "language_info": {
   "codemirror_mode": {
    "name": "ipython",
    "version": 3
   },
   "file_extension": ".py",
   "mimetype": "text/x-python",
   "name": "python",
   "nbconvert_exporter": "python",
   "pygments_lexer": "ipython3",
   "version": "3.6.6"
  }
 },
 "nbformat": 4,
 "nbformat_minor": 2
}
