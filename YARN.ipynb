{
 "cells": [
  {
   "cell_type": "markdown",
   "metadata": {},
   "source": [
    "# YARN\n",
    "\n",
    "`YARN` - Yet Another Resource Negotiator"
   ]
  },
  {
   "cell_type": "markdown",
   "metadata": {},
   "source": [
    "![](https://hadoop.apache.org/docs/current/hadoop-yarn/hadoop-yarn-site/yarn_architecture.gif)"
   ]
  },
  {
   "cell_type": "markdown",
   "metadata": {},
   "source": [
    "`Resource Manager` - машина, которая управляет ресурсами кластера. Кластер имеет только однин основом RM\n",
    "`Node Manager` - узлы, которые отвечают за запуск задач и приложени. \n",
    "\n",
    "Кластер может иметь несколько тысяч `NM`. `NM` запускают задачи и приложения, мониторят ресурсы, шлют отчеты для `RM`.\n",
    "\n",
    "- `YARN` может использоваться не только для запуска Hadoop, а также для управления любыми распределенными приложениями.\n",
    "- `YARN` может взаимодействовать с `HDFS`"
   ]
  },
  {
   "cell_type": "code",
   "execution_count": null,
   "metadata": {},
   "outputs": [],
   "source": []
  }
 ],
 "metadata": {
  "kernelspec": {
   "display_name": "Python 3",
   "language": "python",
   "name": "python3"
  },
  "language_info": {
   "codemirror_mode": {
    "name": "ipython",
    "version": 3
   },
   "file_extension": ".py",
   "mimetype": "text/x-python",
   "name": "python",
   "nbconvert_exporter": "python",
   "pygments_lexer": "ipython3",
   "version": "3.6.6"
  }
 },
 "nbformat": 4,
 "nbformat_minor": 2
}
