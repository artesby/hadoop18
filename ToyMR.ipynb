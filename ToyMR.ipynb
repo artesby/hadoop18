{
 "cells": [
  {
   "cell_type": "code",
   "execution_count": 42,
   "metadata": {},
   "outputs": [],
   "source": [
    "texts = [(1, 'The Scheduler is responsible for allocating resources to the various running applications subject to familiar constraints of capacities, queues etc.'), \n",
    "         (2, 'YARN supports the notion of resource reservation via the ReservationSystem, a component that allows users to specify a profile of resources over-time and temporal constraints'), \n",
    "         (3, 'The timeline readers are separate daemons separate from the timeline collectors, and they are dedicated to serving queries via REST API.')]"
   ]
  },
  {
   "cell_type": "code",
   "execution_count": 46,
   "metadata": {},
   "outputs": [],
   "source": [
    "class ToyMapReduceEngine:\n",
    "    \n",
    "    def __init__(self):\n",
    "        pass\n",
    "    \n",
    "    def _mapper(self, func, data):\n",
    "        for k1, v1 in data:\n",
    "            yield from func(k1, v1)\n",
    "    \n",
    "    def _reducer(self, func, data):\n",
    "        for k2, v2 in data:\n",
    "            yield from func(k2, v2)\n",
    "\n",
    "    def run(self, map_func, reduce_func, data):   \n",
    "        after_mapper = defaultdict(list)\n",
    "        for k_2, v_2 in self._mapper(map_func, data):\n",
    "            after_mapper[k_2].append(v_2)\n",
    "\n",
    "        to_reducer = sorted(after_mapper.items(), key=lambda x: x[0])\n",
    "            \n",
    "        after_reducer = sorted(self._reducer(reduce_func, to_reducer), key=lambda x: x[0])\n",
    "        return after_reducer\n",
    "        \n",
    "    "
   ]
  },
  {
   "cell_type": "code",
   "execution_count": 47,
   "metadata": {},
   "outputs": [
    {
     "data": {
      "text/plain": [
       "[('a', 2),\n",
       " ('allocating', 1),\n",
       " ('allows', 1),\n",
       " ('and', 2),\n",
       " ('applications', 1),\n",
       " ('are', 2),\n",
       " ('component', 1),\n",
       " ('constraints', 2),\n",
       " ('daemons', 1),\n",
       " ('dedicated', 1),\n",
       " ('familiar', 1),\n",
       " ('for', 1),\n",
       " ('from', 1),\n",
       " ('is', 1),\n",
       " ('notion', 1),\n",
       " ('of', 3),\n",
       " ('profile', 1),\n",
       " ('queries', 1),\n",
       " ('queues', 1),\n",
       " ('readers', 1),\n",
       " ('reservation', 1),\n",
       " ('resource', 1),\n",
       " ('resources', 2),\n",
       " ('responsible', 1),\n",
       " ('rest', 1),\n",
       " ('running', 1),\n",
       " ('scheduler', 1),\n",
       " ('separate', 2),\n",
       " ('serving', 1),\n",
       " ('specify', 1),\n",
       " ('subject', 1),\n",
       " ('supports', 1),\n",
       " ('temporal', 1),\n",
       " ('that', 1),\n",
       " ('the', 6),\n",
       " ('they', 1),\n",
       " ('timeline', 2),\n",
       " ('to', 4),\n",
       " ('users', 1),\n",
       " ('various', 1),\n",
       " ('via', 2),\n",
       " ('yarn', 1)]"
      ]
     },
     "execution_count": 47,
     "metadata": {},
     "output_type": "execute_result"
    }
   ],
   "source": [
    "def map_func(k, v):\n",
    "    words = [x for x in v.lower().split() if x.isalpha()]\n",
    "    for word in words:\n",
    "        yield (word, 1)\n",
    "\n",
    "def reduce_func(k, v):\n",
    "    yield k, len(v)\n",
    "        \n",
    "    \n",
    "mr_engine = ToyMapReduceEngine()\n",
    "mr_engine.run(map_func, reduce_func, texts)"
   ]
  },
  {
   "cell_type": "code",
   "execution_count": null,
   "metadata": {},
   "outputs": [],
   "source": []
  }
 ],
 "metadata": {
  "kernelspec": {
   "display_name": "Python 3",
   "language": "python",
   "name": "python3"
  },
  "language_info": {
   "codemirror_mode": {
    "name": "ipython",
    "version": 3
   },
   "file_extension": ".py",
   "mimetype": "text/x-python",
   "name": "python",
   "nbconvert_exporter": "python",
   "pygments_lexer": "ipython3",
   "version": "3.6.5"
  }
 },
 "nbformat": 4,
 "nbformat_minor": 2
}
