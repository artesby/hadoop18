{
 "cells": [
  {
   "cell_type": "markdown",
   "metadata": {},
   "source": [
    "# Hadoop\n",
    "\n",
    "Начиная с версии 2.0 `Hadoop` - обычное `YARN`-приложение. В контейнерах запускают задачи для выполнения операций *map* и *reduce*."
   ]
  },
  {
   "cell_type": "markdown",
   "metadata": {},
   "source": [
    "### Основные особенности\n",
    "\n",
    "- парадигма MapReduce\n",
    "- системы мониторинга за состоянием задач\n",
    "- не требует использования сложных механизмов синхронизации\n",
    "- Data Locality"
   ]
  },
  {
   "cell_type": "markdown",
   "metadata": {},
   "source": [
    "![MapReduce](img/mr_diag.svg)"
   ]
  },
  {
   "cell_type": "markdown",
   "metadata": {},
   "source": [
    "### Терминология\n",
    "\n",
    "**Job** - запуск MapReduce на конктретной задачи\n",
    "\n",
    "**Task** - запуск какой-то подзачади (map или reduce) на каком-то определенном куске данных\n",
    "\n",
    "**Task Attempt** - попытка запуска **Task**. Hadoop может запускать одну задачу на выполнение несколько раз. Это происходит если предыдущая попытка не увенчалась успехом или медленно работает (speculative execution)."
   ]
  },
  {
   "cell_type": "markdown",
   "metadata": {},
   "source": [
    "#### InputFormat\n",
    "\n",
    "`InputFormat` - то, как должны интерпретироваться данные во входном файле, перед тем, как они попадут в Mapper, которому нужны пары ключ-значения. По умолчанию используется `TextInputFormat`, который интерпретирует входной файл как текстовый файл."
   ]
  },
  {
   "cell_type": "markdown",
   "metadata": {},
   "source": [
    "#### OutputFormat\n",
    "\n",
    "`Outputformat` - то, как пары ключ-значения после работы Reducer'a должны записываться на `HDFS` (на самом деле не обязательно на `HDFS`).  По умолчанию используется `TextOutputFormat`, который записывает пары ключ-значения в текстовом виде. "
   ]
  },
  {
   "cell_type": "code",
   "execution_count": null,
   "metadata": {},
   "outputs": [],
   "source": []
  }
 ],
 "metadata": {
  "kernelspec": {
   "display_name": "Python 3",
   "language": "python",
   "name": "python3"
  },
  "language_info": {
   "codemirror_mode": {
    "name": "ipython",
    "version": 3
   },
   "file_extension": ".py",
   "mimetype": "text/x-python",
   "name": "python",
   "nbconvert_exporter": "python",
   "pygments_lexer": "ipython3",
   "version": "3.6.6"
  }
 },
 "nbformat": 4,
 "nbformat_minor": 2
}
