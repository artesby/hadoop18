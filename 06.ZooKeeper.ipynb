{
 "cells": [
  {
   "cell_type": "markdown",
   "metadata": {},
   "source": [
    "# Apache Zookeeper\n",
    "\n",
    "Координационный сервис для распределенных приложений. Логически представляет из себя двевовидную структуру, наподобие файловой системы, к каждому узлу которой можно присвоить значение. \n",
    "\n",
    "Запускаем его в `Docker` вместе с `Kafka`:\n",
    "```bash\n",
    "docker run --name kafka_sandbox -v `pwd`:/course -p 2181:2181 -p 9092:9092 spotify/kafka\n",
    "```"
   ]
  },
  {
   "cell_type": "markdown",
   "metadata": {},
   "source": [
    "### Подключение"
   ]
  },
  {
   "cell_type": "code",
   "execution_count": 1,
   "metadata": {},
   "outputs": [],
   "source": [
    "from kazoo.client import KazooClient\n",
    "\n",
    "zk = KazooClient(hosts='127.0.0.1:2181')\n",
    "zk.start()"
   ]
  },
  {
   "cell_type": "markdown",
   "metadata": {},
   "source": [
    "### Создание элемента"
   ]
  },
  {
   "cell_type": "code",
   "execution_count": 2,
   "metadata": {},
   "outputs": [
    {
     "data": {
      "text/plain": [
       "ZnodeStat(czxid=40, mzxid=151, ctime=1542385610032, mtime=1542387834974, version=4, cversion=27, aversion=0, ephemeralOwner=0, dataLength=5, numChildren=1, pzxid=82)"
      ]
     },
     "execution_count": 2,
     "metadata": {},
     "output_type": "execute_result"
    }
   ],
   "source": [
    "zk.ensure_path('/node/a')\n",
    "zk.set('/node/a', b'hello')"
   ]
  },
  {
   "cell_type": "markdown",
   "metadata": {},
   "source": [
    "можно иначе"
   ]
  },
  {
   "cell_type": "code",
   "execution_count": 6,
   "metadata": {},
   "outputs": [
    {
     "data": {
      "text/plain": [
       "'/node/b'"
      ]
     },
     "execution_count": 6,
     "metadata": {},
     "output_type": "execute_result"
    }
   ],
   "source": [
    "zk.create('/node/b', b'hello2')"
   ]
  },
  {
   "cell_type": "markdown",
   "metadata": {},
   "source": [
    "### Отслеживание изменений"
   ]
  },
  {
   "cell_type": "code",
   "execution_count": 7,
   "metadata": {},
   "outputs": [
    {
     "name": "stdout",
     "output_type": "stream",
     "text": [
      "Event detected:  WatchedEvent(type='CHANGED', state='CONNECTED', path='/node/a')\n"
     ]
    },
    {
     "data": {
      "text/plain": [
       "ZnodeStat(czxid=40, mzxid=157, ctime=1542385610032, mtime=1542387874709, version=6, cversion=27, aversion=0, ephemeralOwner=0, dataLength=6, numChildren=1, pzxid=82)"
      ]
     },
     "execution_count": 7,
     "metadata": {},
     "output_type": "execute_result"
    }
   ],
   "source": [
    "def callback(p):    \n",
    "    print('Event detected: ', p)\n",
    "    \n",
    "zk.get('/node/a', callback)\n",
    "zk.set('/node/a', b'hello2')"
   ]
  },
  {
   "cell_type": "markdown",
   "metadata": {},
   "source": [
    "### Транзакции"
   ]
  },
  {
   "cell_type": "code",
   "execution_count": 8,
   "metadata": {},
   "outputs": [
    {
     "data": {
      "text/plain": [
       "(b'c value',\n",
       " ZnodeStat(czxid=45, mzxid=45, ctime=1542385662063, mtime=1542385662063, version=0, cversion=0, aversion=0, ephemeralOwner=0, dataLength=7, numChildren=0, pzxid=45))"
      ]
     },
     "execution_count": 8,
     "metadata": {},
     "output_type": "execute_result"
    }
   ],
   "source": [
    "with zk.transaction() as t:\n",
    "    t.create('/node/c', b'c value')\n",
    "    t.create('/node/d', b'd value')\n",
    "zk.get('/node/c')    "
   ]
  },
  {
   "cell_type": "markdown",
   "metadata": {},
   "source": [
    "### Блокировки"
   ]
  },
  {
   "cell_type": "code",
   "execution_count": 9,
   "metadata": {},
   "outputs": [
    {
     "name": "stdout",
     "output_type": "stream",
     "text": [
      "Thread #0 lock\n",
      "Thread #0 unlock\n",
      "Thread #1 lock\n",
      "Thread #1 unlock\n",
      "Thread #2 lock\n",
      "Thread #2 unlock\n"
     ]
    }
   ],
   "source": [
    "import threading\n",
    "import time\n",
    "\n",
    "def thread_func(num):\n",
    "    with zk.Lock('/node/a') as lock:\n",
    "        print('Thread #{} lock'.format(num))\n",
    "        zk.ensure_path('/node/a/c')\n",
    "        zk.set('/node/a/c', b'hello')\n",
    "        time.sleep(2)\n",
    "        print('Thread #{} unlock'.format(num))\n",
    "\n",
    "for i in range(3):\n",
    "    threading.Thread(target=thread_func, args=(i,)).start()"
   ]
  },
  {
   "cell_type": "markdown",
   "metadata": {},
   "source": [
    "### Election"
   ]
  },
  {
   "cell_type": "code",
   "execution_count": 10,
   "metadata": {},
   "outputs": [
    {
     "name": "stdout",
     "output_type": "stream",
     "text": [
      "Election won: 0\n",
      "Election won: 1\n",
      "Election won: 2\n"
     ]
    }
   ],
   "source": [
    "def thread_func(num):\n",
    "    election = zk.Election(\"/node\")\n",
    "    \n",
    "    def election_func():\n",
    "        print('Election won: {}'.format(num))\n",
    "    \n",
    "    election.run(election_func)\n",
    "\n",
    "\n",
    "for i in range(3):\n",
    "    threading.Thread(target=thread_func, args=(i,)).start()"
   ]
  },
  {
   "cell_type": "markdown",
   "metadata": {},
   "source": [
    "### Очереди"
   ]
  },
  {
   "cell_type": "code",
   "execution_count": 19,
   "metadata": {},
   "outputs": [],
   "source": [
    "if zk.exists('/queue'):\n",
    "    zk.delete('/queue', recursive=True)\n",
    "    \n",
    "q = zk.Queue('/queue')\n",
    "q.put(b'1', 10)\n",
    "q.put(b'2', 0)"
   ]
  },
  {
   "cell_type": "code",
   "execution_count": 12,
   "metadata": {},
   "outputs": [
    {
     "data": {
      "text/plain": [
       "b'2'"
      ]
     },
     "execution_count": 12,
     "metadata": {},
     "output_type": "execute_result"
    }
   ],
   "source": [
    "q.get()"
   ]
  },
  {
   "cell_type": "markdown",
   "metadata": {},
   "source": [
    "### Счетчики"
   ]
  },
  {
   "cell_type": "code",
   "execution_count": 21,
   "metadata": {},
   "outputs": [
    {
     "data": {
      "text/plain": [
       "15"
      ]
     },
     "execution_count": 21,
     "metadata": {},
     "output_type": "execute_result"
    },
    {
     "name": "stderr",
     "output_type": "stream",
     "text": [
      "Connection dropped: socket connection broken\n",
      "Transition to CONNECTING\n",
      "Connection dropped: socket connection broken\n",
      "Connection dropped: socket connection broken\n",
      "Connection dropped: socket connection broken\n",
      "Connection dropped: socket connection broken\n",
      "Connection dropped: socket connection error: Connection refused\n",
      "Connection dropped: socket connection error: Connection refused\n",
      "Connection dropped: socket connection error: Connection refused\n",
      "Connection dropped: socket connection error: Connection refused\n",
      "Connection dropped: socket connection error: Connection refused\n",
      "Connection dropped: socket connection error: Connection refused\n",
      "Connection dropped: socket connection broken\n",
      "Connection dropped: socket connection broken\n",
      "Connection dropped: socket connection broken\n",
      "Connection dropped: socket connection broken\n"
     ]
    }
   ],
   "source": [
    "if zk.exists('/counter'):\n",
    "    zk.delete('/counter', recursive=True)\n",
    "    \n",
    "counter = zk.Counter('/counter')\n",
    "counter += 20\n",
    "counter -= 5\n",
    "counter.value"
   ]
  },
  {
   "cell_type": "code",
   "execution_count": null,
   "metadata": {},
   "outputs": [],
   "source": []
  }
 ],
 "metadata": {
  "kernelspec": {
   "display_name": "Python 3",
   "language": "python",
   "name": "python3"
  },
  "language_info": {
   "codemirror_mode": {
    "name": "ipython",
    "version": 3
   },
   "file_extension": ".py",
   "mimetype": "text/x-python",
   "name": "python",
   "nbconvert_exporter": "python",
   "pygments_lexer": "ipython3",
   "version": "3.6.6"
  }
 },
 "nbformat": 4,
 "nbformat_minor": 2
}
