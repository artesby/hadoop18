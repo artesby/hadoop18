{
 "cells": [
  {
   "cell_type": "markdown",
   "metadata": {},
   "source": [
    "# Hive"
   ]
  },
  {
   "cell_type": "markdown",
   "metadata": {},
   "source": [
    "### Мотивация \n",
    "- Написание Hadoop-задач на Java нетривиально\n",
    "- Хочется использовать возможность Hadoop для обработки слишком больших для обычной реляционной БД данных\n",
    "- Хочется иметь определенную схему данных\n",
    "- SQL? Да - HiveSQL"
   ]
  },
  {
   "cell_type": "markdown",
   "metadata": {},
   "source": [
    "### Архитектура"
   ]
  },
  {
   "cell_type": "markdown",
   "metadata": {},
   "source": [
    "![](https://cwiki.apache.org/confluence/download/attachments/27362072/system_architecture.png)\n",
    "\n",
    "- `Metastore` хранит метаинформацию о таблицах, колонках и их типах, где и как они хранятся и т.д.\n",
    "    - В качестве хранилища может использоваться реляционная БД\n",
    "- `Driver`- компонент, который обслуживает жизненный цикл запроса к `Hive`.\n",
    "- `Query Compiler` - компонент, который обрабатывает запроса на `HiveSQL` и преобразует его в последовательность MapReduce-задач\n",
    "- `Execution Engine` - компонент, который непосредственно запускает MapReduce-задачи. "
   ]
  },
  {
   "cell_type": "markdown",
   "metadata": {},
   "source": [
    "### Хранение данных\n",
    "\n",
    "- База Данных - это набор Hive-таблиц\n",
    "    - физически представляет собой директорию на HDFS\n",
    "- Таблицы в базе данных \n",
    "    - таблицы физически хранятся в поддиректориях\n",
    "    - метаинформация о таблице хранится в `Metastore`\n",
    "\n",
    "Создать базу дынных:\n",
    "```sql \n",
    "CREATE DATABASE test_db;\n",
    "```\n",
    "   \n",
    "Создать таблицу:\n",
    "```sql\n",
    "CREATE TABLE weather (dt TIMESTAMP, t FLOAT, po FLOAT, \\\n",
    "               p FLOAT, u FLOAT, vv FLOAT, td float, n STRING) \\\n",
    "               ROW FORMAT DELIMITED FIELDS TERMINATED BY ','; \n",
    "               \n",
    "LOAD DATA LOCAL INPATH '/course/data/weather_stat.csv' INTO TABLE weather;               \n",
    "```\n"
   ]
  },
  {
   "cell_type": "markdown",
   "metadata": {},
   "source": [
    "### Типы данных\n",
    "\n",
    "##### Numeric Types\n",
    "\n",
    "    TINYINT (1-byte signed integer)\n",
    "    SMALLINT (2-byte signed integer)\n",
    "    INT/INTEGER (4-byte signed integer)\n",
    "    BIGINT (8-byte signed integer)\n",
    "    FLOAT (4-byte single precision floating point number)\n",
    "    DOUBLE (8-byte double precision floating point number)\n",
    "    DECIMAL\n",
    "    NUMERIC \n",
    "\n",
    "##### Date/Time Types\n",
    "\n",
    "    TIMESTAMP \n",
    "    DATE \n",
    "    INTERVAL\n",
    "\n",
    "##### String Types\n",
    "\n",
    "    STRING\n",
    "    VARCHAR \n",
    "    CHAR \n",
    "\n",
    "##### Misc Types\n",
    "\n",
    "    BOOLEAN\n",
    "    BINARY \n",
    "\n",
    "##### Complex Types\n",
    "    \n",
    "    arrays: ARRAY<data_type> \n",
    "    maps: MAP<primitive_type, data_type> \n",
    "    structs: STRUCT<col_name : data_type [COMMENT col_comment], ...>\n",
    "    union: UNIONTYPE<data_type, data_type, ...> \n",
    "\n"
   ]
  }
 ],
 "metadata": {
  "kernelspec": {
   "display_name": "Python 3",
   "language": "python",
   "name": "python3"
  },
  "language_info": {
   "codemirror_mode": {
    "name": "ipython",
    "version": 3
   },
   "file_extension": ".py",
   "mimetype": "text/x-python",
   "name": "python",
   "nbconvert_exporter": "python",
   "pygments_lexer": "ipython3",
   "version": "3.6.6"
  }
 },
 "nbformat": 4,
 "nbformat_minor": 2
}
