{
 "cells": [
  {
   "cell_type": "markdown",
   "metadata": {},
   "source": [
    "# Docker Container\n",
    "\n",
    "1. Устанавливаем `Docker`\n",
    "2. Скачиваем контейнер \n",
    "> docker pull bigtop/sandbox:1.2.1-ubuntu-16.04-hdfs_yarn_hive_pig\n",
    "3. Запускаем:\n",
    "    > docker run --hostname=quickstart --name=hadoop-sandbox --privileged=true \\    \n",
    "    > -p 50070:50070 -p 14000:14000 -p 8088:8088 -p 19888:19888 \\   \n",
    "    > -p 9083:9083 -p 10000:10000 -p 10002:10002 \\   \n",
    "    > bigtop/sandbox:1.2.1-ubuntu-16.04-hdfs_yarn_hive_pig\n",
    "4. Запускаем терминал\n",
    "    > docker exec -it hadoop-sandbox bash\n",
    "6. В консоле\n",
    "    > apt update -y & apt install -y python3 python3-pip hadoop-httpfs  \n",
    "    > service hadoop-httpfs start \n",
    "    >\n",
    "    > python3 -m pip install mrjob\n",
    "\n",
    "\n",
    "\n",
    "### Сервисы:\n",
    "- http://localhost:50070 - HDFS WEB UI\n",
    "- http://localhost:14000 - HttpFS REST API\n",
    "- http://localhost:8088 - Resource Manager\n",
    "- http://localhost:19888 - Hadoop History Server"
   ]
  },
  {
   "cell_type": "markdown",
   "metadata": {},
   "source": [
    "# HDFS\n",
    "\n",
    "Hadoop Distributed File System - распределенная файловая система. Запускалась на кластере ~ 4000 машин. \n",
    "- устойчива к падениям\n",
    "- масштабируема \n",
    "- безопасность (права доступа и т.д.)\n",
    "- написана на Java\n",
    "- концепция основана на Google GFS\n",
    "- на узлах кластера используются нативные файловые системы\n"
   ]
  },
  {
   "cell_type": "markdown",
   "metadata": {},
   "source": [
    "Узлы бывают двух видов:\n",
    "- `NameNode` - хранение метаинформации\n",
    "- `DataNode` - хранение данных\n",
    "\n",
    "Бывает `Secondary NameNode`."
   ]
  },
  {
   "cell_type": "markdown",
   "metadata": {
    "slideshow": {
     "slide_type": "slide"
    }
   },
   "source": [
    "В целом процесс получения/записи данных выглядит так:\n",
    "1. Клиент обращается к `NameNode`\n",
    "2. Клиент перенаправляется к соответствующему `DataNone` для  чтения/записи данных. \n",
    "\n",
    "\n",
    "![HDFS Architecture](https://hadoop.apache.org/docs/stable/hadoop-project-dist/hadoop-hdfs/images/hdfsarchitecture.png)"
   ]
  },
  {
   "cell_type": "markdown",
   "metadata": {},
   "source": [
    "Данные реплицируются, `NameNode` постоянно общается с `DataNode` и отслеживает их состояние, перераспределяет данные. `DataNode` могут обмениваться данными напрямую.\n",
    "\n",
    "![](https://hadoop.apache.org/docs/r1.2.1/images/hdfsdatanodes.gif)"
   ]
  },
  {
   "cell_type": "markdown",
   "metadata": {},
   "source": [
    "Логически HDFS представляет из себя привычную иерархическую файловую систему. \n",
    "\n",
    "- файлы делятся на блоки (по умолячанию 128Мб)\n",
    "- каждый блок файла копируется по узлам сети (по умолчанию на 3 уззла)\n",
    "- `NameNode` отслеживает каждый состояние узлов\n",
    "- если узел стал недоступен, то блок автоматически до-реплицируется"
   ]
  },
  {
   "cell_type": "markdown",
   "metadata": {},
   "source": [
    "# Python API\n",
    "\n",
    "HDFS представляет REST HTTP API, для которого есть клиенты, например, из `Python`"
   ]
  },
  {
   "cell_type": "code",
   "execution_count": 2,
   "metadata": {},
   "outputs": [],
   "source": [
    "import hdfs\n",
    "\n",
    "http_fs = hdfs.InsecureClient('http://localhost:14000', user='hdfs')\n",
    "\n",
    "with http_fs.write('lines.txt', encoding='utf-8') as w:\n",
    "    for i in range(200):\n",
    "        w.write(str(i))\n",
    "        w.write('\\n')"
   ]
  },
  {
   "cell_type": "code",
   "execution_count": 3,
   "metadata": {},
   "outputs": [
    {
     "data": {
      "text/plain": [
       "True"
      ]
     },
     "execution_count": 3,
     "metadata": {},
     "output_type": "execute_result"
    }
   ],
   "source": [
    "http_fs.delete('lines.txt')"
   ]
  },
  {
   "cell_type": "code",
   "execution_count": 4,
   "metadata": {},
   "outputs": [
    {
     "data": {
      "text/plain": [
       "'/user/hdfs/weather.csv'"
      ]
     },
     "execution_count": 4,
     "metadata": {},
     "output_type": "execute_result"
    }
   ],
   "source": [
    "http_fs.upload('weather.csv', 'data/weather.csv')"
   ]
  },
  {
   "cell_type": "code",
   "execution_count": 5,
   "metadata": {},
   "outputs": [
    {
     "data": {
      "text/plain": [
       "True"
      ]
     },
     "execution_count": 5,
     "metadata": {},
     "output_type": "execute_result"
    }
   ],
   "source": [
    "http_fs.delete('weather.csv')"
   ]
  },
  {
   "cell_type": "code",
   "execution_count": null,
   "metadata": {},
   "outputs": [],
   "source": []
  }
 ],
 "metadata": {
  "kernelspec": {
   "display_name": "Python 3",
   "language": "python",
   "name": "python3"
  },
  "language_info": {
   "codemirror_mode": {
    "name": "ipython",
    "version": 3
   },
   "file_extension": ".py",
   "mimetype": "text/x-python",
   "name": "python",
   "nbconvert_exporter": "python",
   "pygments_lexer": "ipython3",
   "version": "3.6.6"
  }
 },
 "nbformat": 4,
 "nbformat_minor": 2
}
