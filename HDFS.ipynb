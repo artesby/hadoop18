{
 "cells": [
  {
   "cell_type": "markdown",
   "metadata": {},
   "source": [
    "# Cloudera Docker Container\n",
    "\n",
    "Подробное руководство [здесь](https://www.cloudera.com/documentation/enterprise/5-6-x/topics/quickstart_docker_container.html).\n",
    "\n",
    "1. Устанавливаем `Docker`\n",
    "2. Скачиваем контейнер \n",
    "> docker pull cloudera/quickstart:latest \n",
    "3. Запускаем:\n",
    "> docker run --hostname=quickstart.cloudera --privileged=true --rm -it -p 50070:50070 -p 14000:14000 -p 8088:8088 -p 19888:19888 cloudera/quickstart:latest  /usr/bin/docker-quickstart\n",
    "\n",
    "### Сервисы:\n",
    "- http://localhost:50070 - HDFS WEB UI\n",
    "- http://localhost:14000 - HttpFS REST API\n",
    "- http://localhost:8088 - Resource Manager\n",
    "- http://localhost:19888 - Hadoop History Server"
   ]
  },
  {
   "cell_type": "markdown",
   "metadata": {},
   "source": [
    "# HDFS\n",
    "\n",
    "Hadoop Distributed File System - распределенная файловая система. Запускалась на кластере ~ 4000 машин. \n",
    "- устойчива к падениям\n",
    "- масштабируема \n",
    "- безопасность (права доступа и т.д.)\n",
    "- написана на Java\n",
    "- концепция основана на Google GFS\n",
    "- на узлах кластера используются нативные файловые системы\n"
   ]
  },
  {
   "cell_type": "markdown",
   "metadata": {},
   "source": [
    "Узлы бывают двух видов:\n",
    "- `NameNode` - хранение метаинформации\n",
    "- `DataNode` - хранение данных\n",
    "\n",
    "Бывает `Secondary NameNode`."
   ]
  },
  {
   "cell_type": "markdown",
   "metadata": {
    "slideshow": {
     "slide_type": "slide"
    }
   },
   "source": [
    "В целом процесс получения/записи данных выглядит так:\n",
    "1. Клиент обращается к `NameNode`\n",
    "2. Клиент перенаправляется к соответствующему `DataNone` для  чтения/записи данных. \n",
    "\n",
    "\n",
    "![HDFS Architecture](https://hadoop.apache.org/docs/stable/hadoop-project-dist/hadoop-hdfs/images/hdfsarchitecture.png)"
   ]
  },
  {
   "cell_type": "markdown",
   "metadata": {},
   "source": [
    "Данные реплицируются, `NameNode` постоянно общается с `DataNode` и отслеживает их состояние, перераспределяет данные. `DataNode` могут обмениваться данными напрямую.\n",
    "\n",
    "![](https://hadoop.apache.org/docs/r1.2.1/images/hdfsdatanodes.gif)"
   ]
  },
  {
   "cell_type": "markdown",
   "metadata": {},
   "source": [
    "Логически HDFS представляет из себя привычную иерархическую файловую систему. \n",
    "\n",
    "- файлы делятся на блоки (по умолячанию 128Мб)\n",
    "- каждый блок файла копируется по узлам сети (по умолчанию на 3 уззла)\n",
    "- `NameNode` отслеживает каждый состояние узлов\n",
    "- если узел стал недоступен, то блок автоматически до-реплицируется"
   ]
  },
  {
   "cell_type": "markdown",
   "metadata": {},
   "source": [
    "# Python API\n",
    "\n",
    "HDFS представляет REST HTTP API, для которого есть клиенты, например, из `Python`"
   ]
  },
  {
   "cell_type": "code",
   "execution_count": 2,
   "metadata": {},
   "outputs": [],
   "source": [
    "import hdfs\n",
    "\n",
    "http_fs = hdfs.InsecureClient('http://localhost:14000', user='hdfs')\n",
    "\n",
    "with http_fs.write('lines.txt', encoding='utf-8') as w:\n",
    "    for i in range(200):\n",
    "        w.write(str(i))\n",
    "        w.write('\\n')"
   ]
  },
  {
   "cell_type": "code",
   "execution_count": null,
   "metadata": {},
   "outputs": [],
   "source": [
    "http_fs.delete('lines.txt')"
   ]
  },
  {
   "cell_type": "code",
   "execution_count": 14,
   "metadata": {},
   "outputs": [
    {
     "data": {
      "text/plain": [
       "'/user/hdfs/weather.csv'"
      ]
     },
     "execution_count": 14,
     "metadata": {},
     "output_type": "execute_result"
    }
   ],
   "source": [
    "http_fs.upload('weather.csv', 'data/weather.csv')"
   ]
  },
  {
   "cell_type": "code",
   "execution_count": 13,
   "metadata": {},
   "outputs": [
    {
     "data": {
      "text/plain": [
       "False"
      ]
     },
     "execution_count": 13,
     "metadata": {},
     "output_type": "execute_result"
    }
   ],
   "source": [
    "http_fs.delete('weather.csv')"
   ]
  }
 ],
 "metadata": {
  "kernelspec": {
   "display_name": "Python 3",
   "language": "python",
   "name": "python3"
  },
  "language_info": {
   "codemirror_mode": {
    "name": "ipython",
    "version": 3
   },
   "file_extension": ".py",
   "mimetype": "text/x-python",
   "name": "python",
   "nbconvert_exporter": "python",
   "pygments_lexer": "ipython3",
   "version": "3.6.5"
  }
 },
 "nbformat": 4,
 "nbformat_minor": 2
}
