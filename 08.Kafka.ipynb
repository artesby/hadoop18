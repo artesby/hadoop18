{
 "cells": [
  {
   "cell_type": "markdown",
   "metadata": {},
   "source": [
    "# Kafka\n",
    "\n",
    "Запускаем в `Docker`:\n",
    "```bash\n",
    "docker run --rm --name kafka_sandbox -v `pwd`:/course \\\n",
    "        -p 2181:2181 -p 9092:9092 \\\n",
    "        --env ADVERTISED_PORT=9092 \\\n",
    "        --env ADVERTISED_HOST='127.0.0.1' \\\n",
    "        spotify/kafka\n",
    "```"
   ]
  },
  {
   "cell_type": "code",
   "execution_count": 1,
   "metadata": {},
   "outputs": [],
   "source": [
    "import threading\n",
    "from kafka import KafkaProducer, KafkaConsumer\n",
    "\n",
    "def consume():\n",
    "    consumer = KafkaConsumer('some_topic', bootstrap_servers=['localhost:9092'])\n",
    "    for (_, msg) in zip(range(5), consumer):\n",
    "        print(msg.value) \n",
    "        \n",
    "t = threading.Thread(target=consume)\n",
    "t.start()  "
   ]
  },
  {
   "cell_type": "code",
   "execution_count": 2,
   "metadata": {},
   "outputs": [
    {
     "name": "stdout",
     "output_type": "stream",
     "text": [
      "b'Msg 0'\n",
      "b'Msg 1'\n",
      "b'Msg 2'\n",
      "b'Msg 3'\n",
      "b'Msg 4'\n"
     ]
    }
   ],
   "source": [
    "producer = KafkaProducer(bootstrap_servers=['localhost:9092'])\n",
    "for idx in range(10):\n",
    "    producer.send('some_topic', b'Msg %d' % idx)"
   ]
  },
  {
   "cell_type": "code",
   "execution_count": 3,
   "metadata": {},
   "outputs": [
    {
     "name": "stdout",
     "output_type": "stream",
     "text": [
      "b'Msg 0'\n",
      "b'Msg 1'\n",
      "b'Msg 2'\n",
      "b'Msg 3'\n",
      "b'Msg 4'\n"
     ]
    }
   ],
   "source": [
    "consumer = KafkaConsumer('some_topic', bootstrap_servers=['localhost:9092'])\n",
    "consumer.topics()\n",
    "consumer.seek_to_beginning()\n",
    "for (_, msg) in zip(range(5), consumer):\n",
    "    print(msg.value)"
   ]
  },
  {
   "cell_type": "code",
   "execution_count": null,
   "metadata": {},
   "outputs": [],
   "source": []
  }
 ],
 "metadata": {
  "kernelspec": {
   "display_name": "Python 3",
   "language": "python",
   "name": "python3"
  },
  "language_info": {
   "codemirror_mode": {
    "name": "ipython",
    "version": 3
   },
   "file_extension": ".py",
   "mimetype": "text/x-python",
   "name": "python",
   "nbconvert_exporter": "python",
   "pygments_lexer": "ipython3",
   "version": "3.6.6"
  }
 },
 "nbformat": 4,
 "nbformat_minor": 2
}
